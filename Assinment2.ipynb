{
  "nbformat": 4,
  "nbformat_minor": 0,
  "metadata": {
    "colab": {
      "provenance": []
    },
    "kernelspec": {
      "name": "python3",
      "display_name": "Python 3"
    },
    "language_info": {
      "name": "python"
    }
  },
  "cells": [
    {
      "cell_type": "markdown",
      "source": [
        "1. **Write a Python program to print \"Hello, World!\" ?**\n"
      ],
      "metadata": {
        "id": "u67EEPsFOmdz"
      }
    },
    {
      "cell_type": "code",
      "execution_count": null,
      "metadata": {
        "colab": {
          "base_uri": "https://localhost:8080/"
        },
        "id": "PCOBgpseNmaY",
        "outputId": "e6ccb654-0f33-4698-811e-e1d2dd2c7c69"
      },
      "outputs": [
        {
          "output_type": "stream",
          "name": "stdout",
          "text": [
            "Hello, World!\n"
          ]
        }
      ],
      "source": [
        "print(\"Hello, World!\")"
      ]
    },
    {
      "cell_type": "markdown",
      "source": [
        "2. **Write a Python program that displays your name and age ?**"
      ],
      "metadata": {
        "id": "fIXHjVrKP9mB"
      }
    },
    {
      "cell_type": "code",
      "source": [
        "# Define name and age\n",
        "name = \"Ramesh kumar\"  # Replace with your name\n",
        "age = 25  # Replace with your age\n",
        "\n",
        "# Print output\n",
        "print(\"My name is\", name)\n",
        "print(\"I am\", age, \"years old\")\n"
      ],
      "metadata": {
        "colab": {
          "base_uri": "https://localhost:8080/"
        },
        "id": "Eh3GHfYWQEgY",
        "outputId": "5a5e5b37-436c-4483-8d5b-c054ba57cc2c"
      },
      "execution_count": null,
      "outputs": [
        {
          "output_type": "stream",
          "name": "stdout",
          "text": [
            "My name is Ramesh kumar\n",
            "I am 25 years old\n"
          ]
        }
      ]
    },
    {
      "cell_type": "markdown",
      "source": [
        "3. **Write code to print all the pre-defined keywords in Python using the keyword library ?**"
      ],
      "metadata": {
        "id": "EoBLC430QinR"
      }
    },
    {
      "cell_type": "code",
      "source": [
        "import keyword\n",
        "\n",
        "# Print all Python keywords\n",
        "print(\"Python Keywords:\")\n",
        "print(keyword.kwlist)\n"
      ],
      "metadata": {
        "colab": {
          "base_uri": "https://localhost:8080/"
        },
        "id": "NDi9mSYlQq35",
        "outputId": "d823562a-b61e-4e37-821b-22792740927c"
      },
      "execution_count": null,
      "outputs": [
        {
          "output_type": "stream",
          "name": "stdout",
          "text": [
            "Python Keywords:\n",
            "['False', 'None', 'True', 'and', 'as', 'assert', 'async', 'await', 'break', 'class', 'continue', 'def', 'del', 'elif', 'else', 'except', 'finally', 'for', 'from', 'global', 'if', 'import', 'in', 'is', 'lambda', 'nonlocal', 'not', 'or', 'pass', 'raise', 'return', 'try', 'while', 'with', 'yield']\n"
          ]
        }
      ]
    },
    {
      "cell_type": "markdown",
      "source": [
        "4. **Write a program that checks if a given word is a Python keyword ?**"
      ],
      "metadata": {
        "id": "dPMy_-FVRjS7"
      }
    },
    {
      "cell_type": "code",
      "source": [
        "import keyword\n",
        "\n",
        "# Get user input\n",
        "word = input(\"Enter a word: \")\n",
        "\n",
        "# Check if it's a Python keyword\n",
        "if keyword.iskeyword(word):\n",
        "    print(f\"'{word}' is a Python keyword.\")\n",
        "else:\n",
        "    print(f\"'{word}' is NOT a Python keyword.\")"
      ],
      "metadata": {
        "colab": {
          "base_uri": "https://localhost:8080/"
        },
        "id": "V9zF4VR2Rt_Y",
        "outputId": "a232fb7a-838b-4b61-8ff5-8352ee0481e4"
      },
      "execution_count": null,
      "outputs": [
        {
          "output_type": "stream",
          "name": "stdout",
          "text": [
            "Enter a word: and\n",
            "'and' is a Python keyword.\n"
          ]
        }
      ]
    },
    {
      "cell_type": "markdown",
      "source": [
        "5. **Create a list and tuple in Python, and demonstrate how attempting to change an element works differently\n",
        "for each .**"
      ],
      "metadata": {
        "id": "uvl_f5tCgc1l"
      }
    },
    {
      "cell_type": "code",
      "source": [
        "# Creating a list and a tuple\n",
        "my_list = [1, 2, 3]\n",
        "my_tuple = (1, 2, 3)\n",
        "\n",
        "# Modifying an element in the list (mutable)\n",
        "print(\"Original list:\", my_list)\n",
        "my_list[1] = 99\n",
        "print(\"Modified list:\", my_list)\n",
        "\n",
        "# Attempting to modify an element in the tuple (immutable)\n",
        "print(\"\\nOriginal tuple:\", my_tuple)\n",
        "try:\n",
        "    my_tuple[1] = 99  # This will raise a TypeError\n",
        "except TypeError as e:\n",
        "    print(\"Error:\", e)\n"
      ],
      "metadata": {
        "colab": {
          "base_uri": "https://localhost:8080/"
        },
        "id": "kw68mkwngqtz",
        "outputId": "0600ee6d-47fb-437e-dd02-16960fab68d5"
      },
      "execution_count": 1,
      "outputs": [
        {
          "output_type": "stream",
          "name": "stdout",
          "text": [
            "Original list: [1, 2, 3]\n",
            "Modified list: [1, 99, 3]\n",
            "\n",
            "Original tuple: (1, 2, 3)\n",
            "Error: 'tuple' object does not support item assignment\n"
          ]
        }
      ]
    },
    {
      "cell_type": "markdown",
      "source": [
        "6. **Write a function to demonstrate the behavior of mutable and immutable arguments**"
      ],
      "metadata": {
        "id": "VmhlDYXPh44W"
      }
    },
    {
      "cell_type": "code",
      "source": [
        "def modify_arguments(immutable_arg, mutable_arg):\n",
        "    # Attempt to modify the immutable argument\n",
        "    immutable_arg += 1\n",
        "    print(f\"Inside function, immutable_arg: {immutable_arg}\")\n",
        "\n",
        "    # Modify the mutable argument\n",
        "    mutable_arg.append(4)\n",
        "    print(f\"Inside function, mutable_arg: {mutable_arg}\")\n",
        "\n",
        "# Initialize an immutable argument (integer) and a mutable argument (list)\n",
        "immutable_value = 10\n",
        "mutable_list = [1, 2, 3]\n",
        "\n",
        "print(f\"Before function call, immutable_value: {immutable_value}\")\n",
        "print(f\"Before function call, mutable_list: {mutable_list}\")\n",
        "\n",
        "# Call the function with both arguments\n",
        "modify_arguments(immutable_value, mutable_list)\n",
        "\n",
        "print(f\"After function call, immutable_value: {immutable_value}\")\n",
        "print(f\"After function call, mutable_list: {mutable_list}\")\n"
      ],
      "metadata": {
        "colab": {
          "base_uri": "https://localhost:8080/"
        },
        "id": "3Zxe-ZfIh_zb",
        "outputId": "3a45b0eb-1973-48e7-d36b-d998082527ae"
      },
      "execution_count": 2,
      "outputs": [
        {
          "output_type": "stream",
          "name": "stdout",
          "text": [
            "Before function call, immutable_value: 10\n",
            "Before function call, mutable_list: [1, 2, 3]\n",
            "Inside function, immutable_arg: 11\n",
            "Inside function, mutable_arg: [1, 2, 3, 4]\n",
            "After function call, immutable_value: 10\n",
            "After function call, mutable_list: [1, 2, 3, 4]\n"
          ]
        }
      ]
    },
    {
      "cell_type": "markdown",
      "source": [
        "7. **Write a program to demonstrate the use of logical operators.**"
      ],
      "metadata": {
        "id": "YjsTFVqRi-7-"
      }
    },
    {
      "cell_type": "code",
      "source": [
        "def logical_operators_demo(x, y):\n",
        "    # Using 'and' operator: True if both conditions are true\n",
        "    if x > 0 and y > 0:\n",
        "        print(f\"Both x ({x}) and y ({y}) are positive numbers.\")\n",
        "    else:\n",
        "        print(f\"At least one of x ({x}) or y ({y}) is not positive.\")\n",
        "\n",
        "    # Using 'or' operator: True if at least one condition is true\n",
        "    if x > 0 or y > 0:\n",
        "        print(f\"At least one of x ({x}) or y ({y}) is positive.\")\n",
        "    else:\n",
        "        print(f\"Neither x ({x}) nor y ({y}) is positive.\")\n",
        "\n",
        "    # Using 'not' operator: Inverts the boolean value\n",
        "    if not (x > 0):\n",
        "        print(f\"x ({x}) is not a positive number.\")\n",
        "    else:\n",
        "        print(f\"x ({x}) is a positive number.\")\n",
        "\n",
        "# Example usage\n",
        "logical_operators_demo(5, -3)\n"
      ],
      "metadata": {
        "colab": {
          "base_uri": "https://localhost:8080/"
        },
        "id": "VaUb_CYojU0t",
        "outputId": "81f5fd48-9060-4896-d3d2-827d973dc5b5"
      },
      "execution_count": 3,
      "outputs": [
        {
          "output_type": "stream",
          "name": "stdout",
          "text": [
            "At least one of x (5) or y (-3) is not positive.\n",
            "At least one of x (5) or y (-3) is positive.\n",
            "x (5) is a positive number.\n"
          ]
        }
      ]
    },
    {
      "cell_type": "markdown",
      "source": [
        "8. **Write a Python program to convert user input from string to integer, float, and boolean types.**\n"
      ],
      "metadata": {
        "id": "70P-CGarkg3N"
      }
    },
    {
      "cell_type": "code",
      "source": [
        "user_input = input(\"Enter a value: \")\n",
        "\n",
        "# Convert to integer\n",
        "try:\n",
        "    int_value = int(user_input)\n",
        "    print(f\"Integer: {int_value}\")\n",
        "except ValueError:\n",
        "    print(\"Cannot convert to integer.\")\n",
        "\n",
        "# Convert to float\n",
        "try:\n",
        "    float_value = float(user_input)\n",
        "    print(f\"Float: {float_value}\")\n",
        "except ValueError:\n",
        "    print(\"Cannot convert to float.\")\n",
        "\n",
        "# Convert to boolean\n",
        "bool_value = bool(user_input)\n",
        "print(f\"Boolean: {bool_value}\")\n"
      ],
      "metadata": {
        "colab": {
          "base_uri": "https://localhost:8080/"
        },
        "id": "6taGhmFCkwWD",
        "outputId": "af0df425-fd75-436a-c75d-acb554b09aff"
      },
      "execution_count": 8,
      "outputs": [
        {
          "output_type": "stream",
          "name": "stdout",
          "text": [
            "Enter a value: 23\n",
            "Integer: 23\n",
            "Float: 23.0\n",
            "Boolean: True\n"
          ]
        }
      ]
    },
    {
      "cell_type": "markdown",
      "source": [
        "9.**Write code to demonstrate type casting with list elements.**"
      ],
      "metadata": {
        "id": "hNh2-Rq4mHYV"
      }
    },
    {
      "cell_type": "code",
      "source": [
        "# Original list with mixed data types as strings\n",
        "str_list = ['1', '2.5', 'True', 'hello']\n",
        "\n",
        "# Convert elements to appropriate types\n",
        "int_list = [int(item) for item in str_list if item.isdigit()]\n",
        "float_list = [float(item) for item in str_list if item.replace('.', '', 1).isdigit()]\n",
        "bool_list = [item.lower() == 'true' for item in str_list]\n",
        "str_only_list = [item for item in str_list if isinstance(item, str)]\n",
        "\n",
        "# Display the results\n",
        "print(f\"Original list: {str_list}\")\n",
        "print(f\"Integer list: {int_list}\")\n",
        "print(f\"Float list: {float_list}\")\n",
        "print(f\"Boolean list: {bool_list}\")\n",
        "print(f\"String-only list: {str_only_list}\")\n"
      ],
      "metadata": {
        "colab": {
          "base_uri": "https://localhost:8080/"
        },
        "id": "xys547YfmbQ7",
        "outputId": "eb2bc5dd-698b-4fb1-cc74-b6e4067d57f5"
      },
      "execution_count": 9,
      "outputs": [
        {
          "output_type": "stream",
          "name": "stdout",
          "text": [
            "Original list: ['1', '2.5', 'True', 'hello']\n",
            "Integer list: [1]\n",
            "Float list: [1.0, 2.5]\n",
            "Boolean list: [False, False, True, False]\n",
            "String-only list: ['1', '2.5', 'True', 'hello']\n"
          ]
        }
      ]
    },
    {
      "cell_type": "markdown",
      "source": [
        "10. **Write a program that checks if a number is positive, negative, or zero.**"
      ],
      "metadata": {
        "id": "4jeqdP0rmyIM"
      }
    },
    {
      "cell_type": "code",
      "source": [
        "def check_number():\n",
        "    try:\n",
        "        num = float(input(\"Enter a number: \"))\n",
        "        if num > 0:\n",
        "            print(\"The number is positive.\")\n",
        "        elif num < 0:\n",
        "            print(\"The number is negative.\")\n",
        "        else:\n",
        "            print(\"The number is zero.\")\n",
        "    except ValueError:\n",
        "        print(\"Invalid input. Please enter a numeric value.\")\n",
        "\n",
        "check_number()\n"
      ],
      "metadata": {
        "colab": {
          "base_uri": "https://localhost:8080/"
        },
        "id": "G2NcjjeLm2vs",
        "outputId": "af1ae6f9-5b06-4866-e1d4-9b26457d65ca"
      },
      "execution_count": 12,
      "outputs": [
        {
          "output_type": "stream",
          "name": "stdout",
          "text": [
            "Enter a number: -7\n",
            "The number is negative.\n"
          ]
        }
      ]
    },
    {
      "cell_type": "markdown",
      "source": [
        "11.  **Write a for loop to print numbers from 1 to 10**"
      ],
      "metadata": {
        "id": "Nhilu_B-nZy3"
      }
    },
    {
      "cell_type": "code",
      "source": [
        "for i in range(1, 11):\n",
        "    print(i)\n"
      ],
      "metadata": {
        "colab": {
          "base_uri": "https://localhost:8080/"
        },
        "id": "Q_lsmZBkoYei",
        "outputId": "f2879a75-f166-4484-8a72-b9892437b96c"
      },
      "execution_count": 13,
      "outputs": [
        {
          "output_type": "stream",
          "name": "stdout",
          "text": [
            "1\n",
            "2\n",
            "3\n",
            "4\n",
            "5\n",
            "6\n",
            "7\n",
            "8\n",
            "9\n",
            "10\n"
          ]
        }
      ]
    },
    {
      "cell_type": "markdown",
      "source": [
        "12. **Write a Python program to find the sum of all even numbers between 1 and 50**"
      ],
      "metadata": {
        "id": "MkC1qUpzol79"
      }
    },
    {
      "cell_type": "code",
      "source": [
        "# Initialize the sum variable\n",
        "total_sum = 0\n",
        "\n",
        "# Iterate over the range from 2 to 50, inclusive, with a step of 2\n",
        "for number in range(2, 51, 2):\n",
        "    total_sum += number\n",
        "\n",
        "# Display the result\n",
        "print(f\"The sum of all even numbers from 1 to 50 is: {total_sum}\")\n"
      ],
      "metadata": {
        "colab": {
          "base_uri": "https://localhost:8080/"
        },
        "id": "RFPvkOjTpHd9",
        "outputId": "ab2450db-8385-4e16-9734-7a7abdc34914"
      },
      "execution_count": 14,
      "outputs": [
        {
          "output_type": "stream",
          "name": "stdout",
          "text": [
            "The sum of all even numbers from 1 to 50 is: 650\n"
          ]
        }
      ]
    },
    {
      "cell_type": "code",
      "source": [
        "# Calculate the sum using sum() and a generator expression\n",
        "total_sum = sum(range(2, 51, 2))\n",
        "\n",
        "# Display the result\n",
        "print(f\"The sum of all even numbers from 1 to 50 is: {total_sum}\")\n"
      ],
      "metadata": {
        "colab": {
          "base_uri": "https://localhost:8080/"
        },
        "id": "j1zhGv_Kp4dN",
        "outputId": "3a75de70-1cf5-4a0b-a725-0921eda02800"
      },
      "execution_count": 15,
      "outputs": [
        {
          "output_type": "stream",
          "name": "stdout",
          "text": [
            "The sum of all even numbers from 1 to 50 is: 650\n"
          ]
        }
      ]
    },
    {
      "cell_type": "markdown",
      "source": [
        "13. **Write a program to reverse a string using a while loop.**"
      ],
      "metadata": {
        "id": "ETjD9QSuqlrV"
      }
    },
    {
      "cell_type": "code",
      "source": [
        "def reverse_string(s):\n",
        "    reversed_str = \"\"\n",
        "    index = len(s) - 1\n",
        "    while index >= 0:\n",
        "        reversed_str += s[index]\n",
        "        index -= 1\n",
        "    return reversed_str\n",
        "\n",
        "# Get user input and display the reversed string\n",
        "user_input = input(\"Enter a string: \")\n",
        "print(\"Reversed string:\", reverse_string(user_input))\n"
      ],
      "metadata": {
        "colab": {
          "base_uri": "https://localhost:8080/"
        },
        "id": "iPZAVNc5qqO1",
        "outputId": "1b9ed2c2-91c6-474b-f7a9-3b82b9bc22f8"
      },
      "execution_count": 17,
      "outputs": [
        {
          "output_type": "stream",
          "name": "stdout",
          "text": [
            "Enter a string: \"mangos\"\n",
            "Reversed string: \"sognam\"\n"
          ]
        }
      ]
    },
    {
      "cell_type": "markdown",
      "source": [
        "14. **Write a Python program to calculate the factorial of a number provided by the user using a while loop**"
      ],
      "metadata": {
        "id": "Ggu2p-fQrWc-"
      }
    },
    {
      "cell_type": "code",
      "source": [
        "def calculate_factorial():\n",
        "    try:\n",
        "        num = int(input(\"Enter a non-negative integer: \"))\n",
        "        if num < 0:\n",
        "            print(\"Factorial is not defined for negative numbers.\")\n",
        "            return\n",
        "\n",
        "        factorial = 1\n",
        "        current = num\n",
        "\n",
        "        while current > 1:\n",
        "            factorial *= current\n",
        "            current -= 1\n",
        "\n",
        "        print(f\"The factorial of {num} is {factorial}.\")\n",
        "\n",
        "    except ValueError:\n",
        "        print(\"Invalid input. Please enter a valid non-negative integer.\")\n",
        "\n",
        "calculate_factorial()\n"
      ],
      "metadata": {
        "colab": {
          "base_uri": "https://localhost:8080/"
        },
        "id": "vuEcHXiKrb9U",
        "outputId": "c6231b54-facd-4771-ac3c-60a1c2b6ef41"
      },
      "execution_count": 19,
      "outputs": [
        {
          "output_type": "stream",
          "name": "stdout",
          "text": [
            "Enter a non-negative integer: 5\n",
            "The factorial of 5 is 120.\n"
          ]
        }
      ]
    },
    {
      "cell_type": "markdown",
      "source": [],
      "metadata": {
        "id": "m5L3nQJ-r5ke"
      }
    }
  ]
}